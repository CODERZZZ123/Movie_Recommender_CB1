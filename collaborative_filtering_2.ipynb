{
 "cells": [
  {
   "cell_type": "code",
   "execution_count": null,
   "metadata": {},
   "outputs": [],
   "source": [
    "import numpy as np\n",
    "import pandas as pd\n",
    "from resources import *"
   ]
  },
  {
   "cell_type": "code",
   "execution_count": null,
   "metadata": {},
   "outputs": [],
   "source": [
    "R_file = 'data\\small_movies_R.csv'\n",
    "W_file = 'data\\small_movies_W.csv'\n",
    "X_file = 'data\\small_movies_X.csv'\n",
    "Y_file = 'data\\small_movies_Y.csv'\n",
    "b_file = 'data\\small_movies_b.csv'\n"
   ]
  },
  {
   "cell_type": "code",
   "execution_count": null,
   "metadata": {},
   "outputs": [],
   "source": [
    "R = import_movies_data(R_file)\n",
    "Y = import_movies_data(Y_file)\n",
    "movie_list = import_movie_list()\n",
    "movies = movie_list['title']\n",
    "movies = np.array(movies).reshape(-1,1)\n",
    "\n",
    "num_movies = R.shape[0]"
   ]
  },
  {
   "cell_type": "code",
   "execution_count": null,
   "metadata": {},
   "outputs": [],
   "source": [
    "new_user = np.zeros((Y.shape[0],1))\n",
    "# say = \"continue\"\n",
    "# while say.lower() != \"exit\" :\n",
    "#     a = int(input(\"Enter the Movie ID :  \"))\n",
    "#     while a > Y.shape[0] or a < 0 :\n",
    "#         a = int(input(\"Enter the Movie ID which exist int real : \"))\n",
    "    \n",
    "#     b = float(input(f\"Enter the rating you give to {movies[a]} afterwatching it : \"))\n",
    "#     while b > 5 or b < 0: \n",
    "#         b = float(input(f\"Enter a rating between 0 to 5 ,  it can be decimal too ! : \"))\n",
    "\n",
    "#     new_user[a] = b \n",
    "#     say = input(\"type 'exit' to stop writing the movies otherwise write 'con' to continue typing movies\")\n",
    "new_user = np.zeros((num_movies,1))\n",
    "new_user[62] = 1\n",
    "new_user[2716] = 5\n",
    "new_user[3618] = 1\n",
    "new_user[1398] = 5\n",
    "new_user[3083] = 5\n",
    "new_user[2112] = 3    \n",
    "new_user[2755] = 4\n",
    "new_user[4170] = 4\n",
    "new_user[378] = 5\n",
    "new_user[3773] = 3\n",
    "new_user[4415] = 4\n",
    "new_user[3009] = 1\n",
    "new_user[1088] = 1\n",
    "new_user[3556] = 5\n",
    "\n",
    "my_rated = [i for i in range(num_movies) if new_user[i] > 0 ]\n",
    "for i in range(num_movies):\n",
    "  if(new_user[i] > 0):\n",
    "    print(f\"User rated {float(new_user[i])} to movie : {movies[i]}\")\n"
   ]
  },
  {
   "cell_type": "code",
   "execution_count": null,
   "metadata": {},
   "outputs": [],
   "source": [
    "# movies[new_user != 0] , new_user[new_user != 0]\n",
    "Y = np.c_[new_user , Y]\n",
    "R = np.c_[(new_user != 0).astype(int), R]\n",
    "Y.shape , R.shape"
   ]
  },
  {
   "cell_type": "code",
   "execution_count": null,
   "metadata": {},
   "outputs": [],
   "source": [
    "Y_norm = mean_normalize_data2(Y , R)\n",
    "num_users = R.shape[1]\n",
    "num_genre = 27 "
   ]
  },
  {
   "cell_type": "code",
   "execution_count": null,
   "metadata": {},
   "outputs": [],
   "source": [
    "W = np.ones((Y.shape[1],num_genre))\n",
    "X = np.ones((Y.shape[0],num_genre))\n",
    "b = np.zeros((1,Y.shape[1]))"
   ]
  },
  {
   "cell_type": "code",
   "execution_count": null,
   "metadata": {},
   "outputs": [],
   "source": [
    "def dJ_dw(W,X,R,Y,b,lambda__):\n",
    "    ans = np.zeros((W.shape[0],W.shape[1]))\n",
    "    for i in range(num_users):\n",
    "        sum = np.zeros((X.shape[1],1))\n",
    "        wi = np.array(W[i]).reshape(-1,1)\n",
    "        for j in range(num_movies):\n",
    "            if R[j][i] == 1 :\n",
    "                xj = np.array(X[j]).reshape(-1,1)\n",
    "                sum = sum + (wi.T.dot(xj) + b[0][i] - Y[j][i])*xj\n",
    "        ans[i] = lambda__*W[i] + sum.T\n",
    "    return ans  "
   ]
  },
  {
   "cell_type": "code",
   "execution_count": null,
   "metadata": {},
   "outputs": [],
   "source": [
    "def dJ_dX(W,X,R,Y,b,lambda__):\n",
    "    ans = np.zeros((X.shape[0],X.shape[1]))\n",
    "    for i in range(num_movies):\n",
    "        sum = np.zeros((X.shape[1],1))\n",
    "        xi = np.array(X[i]).reshape(-1,1)\n",
    "        for j in range(num_users):\n",
    "            if R[i][j] == 1  :\n",
    "                wj = np.array(W[j]).reshape(-1,1)\n",
    "                sum = sum + (wj.T.dot(xi) + b[0][j] - Y[i][j])*wj \n",
    "        ans[i] = lambda__*X[i] + sum.T\n",
    "    return ans\n"
   ]
  },
  {
   "cell_type": "code",
   "execution_count": null,
   "metadata": {},
   "outputs": [],
   "source": [
    "def dJ_db(W,X,R,Y,b):\n",
    "    ans = np.zeros((b.shape[0],b.shape[1]))\n",
    "    for i in range(num_users):\n",
    "        sum = 0\n",
    "        wi = np.array(W[i]).reshape(-1,1)\n",
    "        for j in range(num_movies):\n",
    "            if R[j][i] == 1 :\n",
    "                xj = np.array(X[j]).reshape(-1,1)\n",
    "                sum = sum + wi.T.dot(xj) + b[0][i] - Y[j][i]\n",
    "        ans[0][i] = sum\n",
    "    return ans"
   ]
  },
  {
   "cell_type": "code",
   "execution_count": null,
   "metadata": {},
   "outputs": [],
   "source": [
    "def cost_fucntion(W,X,Y,R,b,lambda__):\n",
    "    cost = 0\n",
    "\n",
    "    for i in range(num_movies):\n",
    "        for j in range(num_users):\n",
    "            if R[i][j] == 1:\n",
    "                wj = np.array(W[j]).reshape((-1,1))\n",
    "                xi = np.array(X[i]).reshape((-1,1))\n",
    "                cost = cost +  (wj.T.dot(xi) + b[0][j] - Y[i][j])**2 \n",
    "                                            \n",
    "    for i in range(num_movies):\n",
    "        for k in range(num_genre):\n",
    "            cost = cost +  (lambda__/2)*X[i][k]\n",
    "    \n",
    "    for j in range(num_users):\n",
    "        for k in range(num_genre):\n",
    "            cost = cost +  (lambda__/2)*W[j][k]\n",
    "\n",
    "    return cost                      "
   ]
  },
  {
   "cell_type": "code",
   "execution_count": null,
   "metadata": {},
   "outputs": [],
   "source": [
    "iterations = 10\n",
    "alpha = 1e-3\n",
    "lambda__ = 0\n",
    "cost_old  = cost_fucntion(W,X,Y,R,b,lambda__)\n",
    "for i in range(iterations):\n",
    "    W = W - alpha*dJ_dw(W,X,R,Y,b,lambda__)\n",
    "    X = X - alpha*dJ_dX(W,X,R,Y,b,lambda__)\n",
    "    b = b - alpha*dJ_db(W,X,R,Y,b)\n",
    "    cost = cost_fucntion(W,X,Y,R,b,lambda__)\n",
    "    if cost < cost_old :\n",
    "        print(f\"Cost function value after the iteration {i} is : {cost}\")\n",
    "    else :\n",
    "        break\n",
    "    "
   ]
  },
  {
   "cell_type": "code",
   "execution_count": null,
   "metadata": {},
   "outputs": [],
   "source": [
    "WI = np.array(W[0]).reshape(-1,1)\n",
    "predicted_for_user = X.dot(WI)\n",
    "WI\n"
   ]
  },
  {
   "cell_type": "code",
   "execution_count": null,
   "metadata": {},
   "outputs": [],
   "source": []
  }
 ],
 "metadata": {
  "kernelspec": {
   "display_name": "Python 3",
   "language": "python",
   "name": "python3"
  },
  "language_info": {
   "codemirror_mode": {
    "name": "ipython",
    "version": 3
   },
   "file_extension": ".py",
   "mimetype": "text/x-python",
   "name": "python",
   "nbconvert_exporter": "python",
   "pygments_lexer": "ipython3",
   "version": "3.10.11"
  },
  "orig_nbformat": 4
 },
 "nbformat": 4,
 "nbformat_minor": 2
}
