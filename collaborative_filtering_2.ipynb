{
 "cells": [
  {
   "attachments": {},
   "cell_type": "markdown",
   "metadata": {},
   "source": [
    "## Recommender system - Collaborative filtering from scratch( No use of Deep learning library or Scikit learn)"
   ]
  },
  {
   "cell_type": "code",
   "execution_count": null,
   "metadata": {},
   "outputs": [],
   "source": [
    "import numpy as np\n",
    "import pandas as pd\n",
    "from resources import *"
   ]
  },
  {
   "cell_type": "code",
   "execution_count": null,
   "metadata": {},
   "outputs": [],
   "source": [
    "R_file = 'data\\small_movies_R.csv'\n",
    "W_file = 'data\\small_movies_W.csv'\n",
    "X_file = 'data\\small_movies_X.csv'\n",
    "Y_file = 'data\\small_movies_Y.csv'\n",
    "b_file = 'data\\small_movies_b.csv'\n"
   ]
  },
  {
   "attachments": {},
   "cell_type": "markdown",
   "metadata": {},
   "source": [
    "#### Import data and Define varaible "
   ]
  },
  {
   "cell_type": "code",
   "execution_count": null,
   "metadata": {},
   "outputs": [],
   "source": [
    "R = import_movies_data(R_file)\n",
    "Y = import_movies_data(Y_file)\n",
    "movie_list = import_movie_list()\n",
    "movies = movie_list['title']\n",
    "movies = np.array(movies).reshape(-1,1)\n",
    "\n",
    "num_movies = R.shape[0]"
   ]
  },
  {
   "attachments": {},
   "cell_type": "markdown",
   "metadata": {},
   "source": [
    "#### Create a new user , for which we will recommend the movies"
   ]
  },
  {
   "cell_type": "code",
   "execution_count": null,
   "metadata": {},
   "outputs": [],
   "source": [
    "new_user = np.zeros((Y.shape[0],1))\n",
    "# Design something to take input from user \n",
    "\n",
    "# say = \"continue\"\n",
    "# while say.lower() != \"exit\" :\n",
    "#     a = int(input(\"Enter the Movie ID :  \"))\n",
    "#     while a > Y.shape[0] or a < 0 :\n",
    "#         a = int(input(\"Enter the Movie ID which exist int real : \"))\n",
    "    \n",
    "#     b = float(input(f\"Enter the rating you give to {movies[a]} afterwatching it : \"))\n",
    "#     while b > 5 or b < 0: \n",
    "#         b = float(input(f\"Enter a rating between 0 to 5 ,  it can be decimal too ! : \"))\n",
    "\n",
    "#     new_user[a] = b \n",
    "#     say = input(\"type 'exit' to stop writing the movies otherwise write 'con' to continue typing movies\")\n",
    "\n",
    "new_user = np.zeros((num_movies,1))\n",
    "new_user[62] = 1\n",
    "new_user[2716] = 5\n",
    "new_user[3618] = 1\n",
    "new_user[1398] = 5\n",
    "new_user[3083] = 5\n",
    "new_user[2112] = 3    \n",
    "new_user[2755] = 4\n",
    "new_user[4170] = 4\n",
    "new_user[378] = 5\n",
    "new_user[3773] = 3\n",
    "new_user[4415] = 4\n",
    "new_user[3009] = 1\n",
    "new_user[1088] = 1\n",
    "new_user[3556] = 5\n",
    "\n",
    "my_rated = [i for i in range(num_movies) if new_user[i] > 0 ]\n",
    "for i in range(num_movies):\n",
    "  if(new_user[i] > 0):\n",
    "    print(f\"User rated {float(new_user[i])} to movie : {movies[i]}\")\n"
   ]
  },
  {
   "attachments": {},
   "cell_type": "markdown",
   "metadata": {},
   "source": [
    "#### Add the new user to the Actual dataset ,  New user is added at the start of the dataset"
   ]
  },
  {
   "cell_type": "code",
   "execution_count": null,
   "metadata": {},
   "outputs": [],
   "source": [
    "# movies[new_user != 0] , new_user[new_user != 0]\n",
    "Y = np.c_[new_user , Y]\n",
    "R = np.c_[(new_user != 0).astype(int), R]\n",
    "Y.shape , R.shape"
   ]
  },
  {
   "cell_type": "code",
   "execution_count": null,
   "metadata": {},
   "outputs": [],
   "source": [
    "Y_norm , Y_mean = mean_normalize_data2(Y , R)\n",
    "num_users = R.shape[1]\n",
    "num_genre = 15"
   ]
  },
  {
   "cell_type": "code",
   "execution_count": null,
   "metadata": {},
   "outputs": [],
   "source": [
    "M = Y.shape[0]\n",
    "U = Y.shape[1]\n",
    "X = np.random.randn(M, num_genre)  \n",
    "W = np.random.randn(U, num_genre)  \n",
    "b = np.random.randn(1, U) \n",
    "Y = Y_norm"
   ]
  },
  {
   "attachments": {},
   "cell_type": "markdown",
   "metadata": {},
   "source": [
    "#### Define the derivative of Cost function J with respect to the W(user/genre)"
   ]
  },
  {
   "cell_type": "code",
   "execution_count": null,
   "metadata": {},
   "outputs": [],
   "source": [
    "def dJ_dw(W,X,R,Y,b,lambda__):\n",
    "    ans = 2*np.dot( ((np.dot(X,W.T) + b - Y).T)*R.T ,X) + lambda__*W\n",
    "    return ans  "
   ]
  },
  {
   "attachments": {},
   "cell_type": "markdown",
   "metadata": {},
   "source": [
    "#### Define the derivative of Cost function J with respect to the X(movies/genre)"
   ]
  },
  {
   "cell_type": "code",
   "execution_count": null,
   "metadata": {},
   "outputs": [],
   "source": [
    "def dJ_dX(W,X,R,Y,b,lambda__):\n",
    "    ans = 2*np.dot( (np.dot(X,W.T) + b - Y )*R, W) + lambda__*X\n",
    "    return ans\n"
   ]
  },
  {
   "attachments": {},
   "cell_type": "markdown",
   "metadata": {},
   "source": [
    "#### Define the derivative of Cost function J with respect to the b(user)"
   ]
  },
  {
   "cell_type": "code",
   "execution_count": null,
   "metadata": {},
   "outputs": [],
   "source": [
    "def dJ_db(W,X,R,Y,b):\n",
    "    ans = 2*np.sum( ( np.dot(X,W.T) + b - Y )*R ,axis=0)\n",
    "    return ans"
   ]
  },
  {
   "attachments": {},
   "cell_type": "markdown",
   "metadata": {},
   "source": [
    "#### Define the cost function"
   ]
  },
  {
   "cell_type": "code",
   "execution_count": null,
   "metadata": {},
   "outputs": [],
   "source": [
    "def cost_fucntion(W,X,Y,R,b,lambda__):\n",
    "    cost = 0\n",
    "    cost1 = 1/2*np.square(np.sum(np.dot(X,W.T)*R + b*R - Y*R)) \n",
    "    cost2 = lambda__*np.sum(W*W) \n",
    "    cost3 = lambda__*np.sum(X*X)\n",
    "    return cost1 + cost2 + cost3                      "
   ]
  },
  {
   "attachments": {},
   "cell_type": "markdown",
   "metadata": {},
   "source": [
    "#### Iterate the model using defined learning rate and regularization constant"
   ]
  },
  {
   "cell_type": "code",
   "execution_count": null,
   "metadata": {},
   "outputs": [],
   "source": [
    "iterations = 2000\n",
    "alpha = 1e-4\n",
    "lambda__ = 1\n",
    "cost_old  = cost_fucntion(W,X,Y,R,b,lambda__)\n",
    "for i in range(iterations):\n",
    "    W = W - alpha*dJ_dw(W,X,R,Y,b,lambda__)\n",
    "    X = X - alpha*dJ_dX(W,X,R,Y,b,lambda__)\n",
    "    b = b - alpha*dJ_db(W,X,R,Y,b)\n",
    "    cost = cost_fucntion(W,X,Y,R,b,lambda__)\n",
    "    print(f\"Cost function value after the iteration {i} is : {cost}\")\n",
    "    # put some else condition or something else to make it fast"
   ]
  },
  {
   "attachments": {},
   "cell_type": "markdown",
   "metadata": {},
   "source": [
    "#### predict the data from the learned model "
   ]
  },
  {
   "cell_type": "code",
   "execution_count": null,
   "metadata": {},
   "outputs": [],
   "source": [
    "predictions_normalised =  np.matmul(X,W.T) + b\n",
    "prediction = predictions_normalised + Y_mean\n",
    "pred = prediction[:,0]"
   ]
  },
  {
   "attachments": {},
   "cell_type": "markdown",
   "metadata": {},
   "source": [
    "#### Check the predicted rating of the movies user had already rated"
   ]
  },
  {
   "cell_type": "code",
   "execution_count": null,
   "metadata": {},
   "outputs": [],
   "source": [
    "for i in range(len(new_user)):\n",
    "    if new_user[i] > 0:\n",
    "        print(f'Original {new_user[i]}, Predicted {pred[i]:0.2f} for {movies[i]}')"
   ]
  },
  {
   "attachments": {},
   "cell_type": "markdown",
   "metadata": {},
   "source": [
    "#### Return the top 30 highly rated movie for new user"
   ]
  },
  {
   "cell_type": "code",
   "execution_count": null,
   "metadata": {},
   "outputs": [],
   "source": [
    "ix = np.argsort(pred)\n",
    "for i in range(len(pred)-1-30 , len(pred)):\n",
    "    j = ix[i]\n",
    "    if j not in my_rated:\n",
    "        print(f'Predicting rating {pred[j]:0.2f} for movie {movies[j]}')"
   ]
  }
 ],
 "metadata": {
  "kernelspec": {
   "display_name": "Python 3",
   "language": "python",
   "name": "python3"
  },
  "language_info": {
   "codemirror_mode": {
    "name": "ipython",
    "version": 3
   },
   "file_extension": ".py",
   "mimetype": "text/x-python",
   "name": "python",
   "nbconvert_exporter": "python",
   "pygments_lexer": "ipython3",
   "version": "3.10.11"
  },
  "orig_nbformat": 4
 },
 "nbformat": 4,
 "nbformat_minor": 2
}
