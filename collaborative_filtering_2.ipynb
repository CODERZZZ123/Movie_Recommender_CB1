{
 "cells": [
  {
   "cell_type": "code",
   "execution_count": 7,
   "metadata": {},
   "outputs": [],
   "source": [
    "import numpy as np\n",
    "import pandas as pd\n",
    "from resources import *"
   ]
  },
  {
   "cell_type": "code",
   "execution_count": 8,
   "metadata": {},
   "outputs": [],
   "source": [
    "R_file = 'data\\small_movies_R.csv'\n",
    "W_file = 'data\\small_movies_W.csv'\n",
    "X_file = 'data\\small_movies_X.csv'\n",
    "Y_file = 'data\\small_movies_Y.csv'\n",
    "b_file = 'data\\small_movies_b.csv'\n"
   ]
  },
  {
   "cell_type": "code",
   "execution_count": 9,
   "metadata": {},
   "outputs": [],
   "source": [
    "R = import_movies_data(R_file)\n",
    "Y = import_movies_data(Y_file)\n",
    "movie_list = import_movie_list()\n",
    "movies = movie_list['title']\n",
    "movies = np.array(movies).reshape(-1,1)\n",
    "\n",
    "num_movies = R.shape[0]"
   ]
  },
  {
   "cell_type": "code",
   "execution_count": 10,
   "metadata": {},
   "outputs": [
    {
     "name": "stdout",
     "output_type": "stream",
     "text": [
      "User rated 1.0 to movie : ['Mission: Impossible II (2000)']\n",
      "User rated 5.0 to movie : [\"Ocean's Eleven (2001)\"]\n",
      "User rated 1.0 to movie : ['Bourne Supremacy, The (2004)']\n",
      "User rated 5.0 to movie : ['Batman Begins (2005)']\n",
      "User rated 3.0 to movie : ['Dark Knight, The (2008)']\n",
      "User rated 5.0 to movie : ['Inception (2010)']\n",
      "User rated 4.0 to movie : ['Social Network, The (2010)']\n",
      "User rated 1.0 to movie : ['Moneyball (2011)']\n",
      "User rated 5.0 to movie : ['Dark Knight Rises, The (2012)']\n",
      "User rated 5.0 to movie : ['Wolf of Wall Street, The (2013)']\n",
      "User rated 1.0 to movie : ['Interstellar (2014)']\n",
      "User rated 3.0 to movie : ['John Wick (2014)']\n",
      "User rated 4.0 to movie : ['The Intern (2015)']\n",
      "User rated 4.0 to movie : ['Now You See Me 2 (2016)']\n"
     ]
    }
   ],
   "source": [
    "new_user = np.zeros((Y.shape[0],1))\n",
    "# say = \"continue\"\n",
    "# while say.lower() != \"exit\" :\n",
    "#     a = int(input(\"Enter the Movie ID :  \"))\n",
    "#     while a > Y.shape[0] or a < 0 :\n",
    "#         a = int(input(\"Enter the Movie ID which exist int real : \"))\n",
    "    \n",
    "#     b = float(input(f\"Enter the rating you give to {movies[a]} afterwatching it : \"))\n",
    "#     while b > 5 or b < 0: \n",
    "#         b = float(input(f\"Enter a rating between 0 to 5 ,  it can be decimal too ! : \"))\n",
    "\n",
    "#     new_user[a] = b \n",
    "#     say = input(\"type 'exit' to stop writing the movies otherwise write 'con' to continue typing movies\")\n",
    "new_user = np.zeros((num_movies,1))\n",
    "new_user[62] = 1\n",
    "new_user[2716] = 5\n",
    "new_user[3618] = 1\n",
    "new_user[1398] = 5\n",
    "new_user[3083] = 5\n",
    "new_user[2112] = 3    \n",
    "new_user[2755] = 4\n",
    "new_user[4170] = 4\n",
    "new_user[378] = 5\n",
    "new_user[3773] = 3\n",
    "new_user[4415] = 4\n",
    "new_user[3009] = 1\n",
    "new_user[1088] = 1\n",
    "new_user[3556] = 5\n",
    "\n",
    "my_rated = [i for i in range(num_movies) if new_user[i] > 0 ]\n",
    "for i in range(num_movies):\n",
    "  if(new_user[i] > 0):\n",
    "    print(f\"User rated {float(new_user[i])} to movie : {movies[i]}\")\n"
   ]
  },
  {
   "cell_type": "code",
   "execution_count": 11,
   "metadata": {},
   "outputs": [
    {
     "data": {
      "text/plain": [
       "((4778, 444), (4778, 444))"
      ]
     },
     "execution_count": 11,
     "metadata": {},
     "output_type": "execute_result"
    }
   ],
   "source": [
    "# movies[new_user != 0] , new_user[new_user != 0]\n",
    "Y = np.c_[new_user , Y]\n",
    "R = np.c_[(new_user != 0).astype(int), R]\n",
    "Y.shape , R.shape"
   ]
  },
  {
   "cell_type": "code",
   "execution_count": 12,
   "metadata": {},
   "outputs": [
    {
     "ename": "ValueError",
     "evalue": "too many values to unpack (expected 2)",
     "output_type": "error",
     "traceback": [
      "\u001b[1;31m---------------------------------------------------------------------------\u001b[0m",
      "\u001b[1;31mValueError\u001b[0m                                Traceback (most recent call last)",
      "Cell \u001b[1;32mIn[12], line 1\u001b[0m\n\u001b[1;32m----> 1\u001b[0m Y_norm , Y_mean \u001b[39m=\u001b[39m mean_normalize_data2(Y , R)\n\u001b[0;32m      2\u001b[0m num_users \u001b[39m=\u001b[39m R\u001b[39m.\u001b[39mshape[\u001b[39m1\u001b[39m]\n\u001b[0;32m      3\u001b[0m num_genre \u001b[39m=\u001b[39m \u001b[39m100\u001b[39m\n",
      "\u001b[1;31mValueError\u001b[0m: too many values to unpack (expected 2)"
     ]
    }
   ],
   "source": [
    "Y_norm,Y_mean = mean_normalize_data2(Y , R)\n",
    "num_users = R.shape[1]\n",
    "num_genre = 100"
   ]
  },
  {
   "cell_type": "code",
   "execution_count": null,
   "metadata": {},
   "outputs": [],
   "source": [
    "M = Y.shape[0]\n",
    "U = Y.shape[1]\n",
    "X = np.random.randn(M, num_genre)  # User latent factor matrix\n",
    "W = np.random.randn(U, num_genre)  # Item latent factor matrix\n",
    "b = np.random.randn(1, U) \n",
    "Y = Y_norm"
   ]
  },
  {
   "cell_type": "code",
   "execution_count": null,
   "metadata": {},
   "outputs": [],
   "source": [
    "def dJ_dw(W,X,R,Y,b,lambda__):\n",
    "    ans = 2*np.dot( ((np.dot(X,W.T) + b - Y).T)*R.T ,X) + lambda__*W\n",
    "    return ans  "
   ]
  },
  {
   "cell_type": "code",
   "execution_count": null,
   "metadata": {},
   "outputs": [],
   "source": [
    "def dJ_dX(W,X,R,Y,b,lambda__):\n",
    "    ans = 2*np.dot( (np.dot(X,W.T) + b - Y )*R, W) + lambda__*X\n",
    "    return ans\n"
   ]
  },
  {
   "cell_type": "code",
   "execution_count": null,
   "metadata": {},
   "outputs": [],
   "source": [
    "def dJ_db(W,X,R,Y,b):\n",
    "    ans = 2*np.sum( ( np.dot(X,W.T) + b - Y )*R ,axis=0)\n",
    "    return ans"
   ]
  },
  {
   "cell_type": "code",
   "execution_count": null,
   "metadata": {},
   "outputs": [],
   "source": [
    "def cost_fucntion(W,X,Y,R,b,lambda__):\n",
    "    cost = 0\n",
    "    cost1 = 1/2*np.square(np.sum(np.dot(X,W.T)*R + b*R - Y*R)) \n",
    "    cost2 = lambda__*np.sum(W*W) \n",
    "    cost3 = lambda__*np.sum(X*X)\n",
    "    return cost1 + cost2 + cost3                      "
   ]
  },
  {
   "cell_type": "code",
   "execution_count": null,
   "metadata": {},
   "outputs": [
    {
     "name": "stdout",
     "output_type": "stream",
     "text": [
      "Cost function value after the iteration 0 is : 542040.8437312909\n"
     ]
    }
   ],
   "source": [
    "iterations = 200\n",
    "alpha = 1e-4\n",
    "lambda__ = 1\n",
    "cost_old  = cost_fucntion(W,X,Y,R,b,lambda__)\n",
    "for i in range(iterations):\n",
    "    W = W - alpha*dJ_dw(W,X,R,Y,b,lambda__)\n",
    "    X = X - alpha*dJ_dX(W,X,R,Y,b,lambda__)\n",
    "    b = b - alpha*dJ_db(W,X,R,Y,b)\n",
    "    cost = cost_fucntion(W,X,Y,R,b,lambda__)\n",
    "    if cost < cost_old :\n",
    "        print(f\"Cost function value after the iteration {i} is : {cost}\")\n",
    "    else :\n",
    "        # while(cost_fucntion(W,X,Y,R,b,lambda__) > cost):\n",
    "        #     alpha = alpha*0.95\n",
    "        #     W = W - alpha*dJ_dw(W,X,R,Y,b,lambda__)\n",
    "        #     X = X - alpha*dJ_dX(W,X,R,Y,b,lambda__)\n",
    "        #     b = b - alpha*dJ_db(W,X,R,Y,b)\n",
    "        break"
   ]
  },
  {
   "cell_type": "code",
   "execution_count": null,
   "metadata": {},
   "outputs": [
    {
     "ename": "NameError",
     "evalue": "name 'Y_mean' is not defined",
     "output_type": "error",
     "traceback": [
      "\u001b[1;31m---------------------------------------------------------------------------\u001b[0m",
      "\u001b[1;31mNameError\u001b[0m                                 Traceback (most recent call last)",
      "Cell \u001b[1;32mIn[539], line 5\u001b[0m\n\u001b[0;32m      1\u001b[0m \u001b[39m# WI = np.array(W[0]).reshape(-1,1)\u001b[39;00m\n\u001b[0;32m      2\u001b[0m \u001b[39m# predicted_for_user = X.dot(WI) + b[0]\u001b[39;00m\n\u001b[0;32m      3\u001b[0m \u001b[39m# WI\u001b[39;00m\n\u001b[0;32m      4\u001b[0m predictions_normalised \u001b[39m=\u001b[39m  np\u001b[39m.\u001b[39mmatmul(X,W\u001b[39m.\u001b[39mT) \u001b[39m+\u001b[39m b\n\u001b[1;32m----> 5\u001b[0m prediction \u001b[39m=\u001b[39m predictions_normalised  \u001b[39m+\u001b[39m Y_mean\n\u001b[0;32m      6\u001b[0m pred \u001b[39m=\u001b[39m prediction[:,\u001b[39m0\u001b[39m]\n\u001b[0;32m      7\u001b[0m \u001b[39mprint\u001b[39m(pred)\n",
      "\u001b[1;31mNameError\u001b[0m: name 'Y_mean' is not defined"
     ]
    }
   ],
   "source": [
    "# WI = np.array(W[0]).reshape(-1,1)\n",
    "# predicted_for_user = X.dot(WI) + b[0]\n",
    "# WI\n",
    "predictions_normalised =  np.matmul(X,W.T) + b\n",
    "prediction = predictions_normalised  + Y_mean\n",
    "pred = prediction[:,0]\n",
    "print(pred)\n"
   ]
  },
  {
   "cell_type": "code",
   "execution_count": null,
   "metadata": {},
   "outputs": [
    {
     "name": "stdout",
     "output_type": "stream",
     "text": [
      "Original [1.], Predicted 1.56 for ['Mission: Impossible II (2000)']\n",
      "Original [5.], Predicted -4.72 for [\"Ocean's Eleven (2001)\"]\n",
      "Original [1.], Predicted -12.17 for ['Bourne Supremacy, The (2004)']\n",
      "Original [5.], Predicted 1.07 for ['Batman Begins (2005)']\n",
      "Original [3.], Predicted 11.30 for ['Dark Knight, The (2008)']\n",
      "Original [5.], Predicted 4.86 for ['Inception (2010)']\n",
      "Original [4.], Predicted 6.91 for ['Social Network, The (2010)']\n",
      "Original [1.], Predicted -12.33 for ['Moneyball (2011)']\n",
      "Original [5.], Predicted -4.48 for ['Dark Knight Rises, The (2012)']\n",
      "Original [5.], Predicted -14.44 for ['Wolf of Wall Street, The (2013)']\n",
      "Original [1.], Predicted 6.54 for ['Interstellar (2014)']\n",
      "Original [3.], Predicted 5.68 for ['John Wick (2014)']\n",
      "Original [4.], Predicted -23.23 for ['The Intern (2015)']\n",
      "Original [4.], Predicted 22.36 for ['Now You See Me 2 (2016)']\n"
     ]
    }
   ],
   "source": [
    "for i in range(len(new_user)):\n",
    "    if new_user[i] > 0:\n",
    "        print(f'Original {new_user[i]}, Predicted {pred[i]:0.2f} for {movies[i]}')"
   ]
  },
  {
   "cell_type": "code",
   "execution_count": null,
   "metadata": {},
   "outputs": [
    {
     "data": {
      "text/plain": [
       "array([-37.20693297, -32.8425072 , -30.54859581, ...,  32.81320844,\n",
       "        34.65192786,  35.18185711])"
      ]
     },
     "execution_count": 541,
     "metadata": {},
     "output_type": "execute_result"
    }
   ],
   "source": [
    "ix"
   ]
  },
  {
   "cell_type": "code",
   "execution_count": null,
   "metadata": {},
   "outputs": [],
   "source": []
  }
 ],
 "metadata": {
  "kernelspec": {
   "display_name": "Python 3",
   "language": "python",
   "name": "python3"
  },
  "language_info": {
   "codemirror_mode": {
    "name": "ipython",
    "version": 3
   },
   "file_extension": ".py",
   "mimetype": "text/x-python",
   "name": "python",
   "nbconvert_exporter": "python",
   "pygments_lexer": "ipython3",
   "version": "3.10.11"
  },
  "orig_nbformat": 4
 },
 "nbformat": 4,
 "nbformat_minor": 2
}
