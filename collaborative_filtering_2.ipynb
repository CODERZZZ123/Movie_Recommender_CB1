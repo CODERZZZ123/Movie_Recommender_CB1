{
 "cells": [
  {
   "cell_type": "code",
   "execution_count": 198,
   "metadata": {},
   "outputs": [],
   "source": [
    "import numpy as np\n",
    "import pandas as pd\n",
    "from resources import *"
   ]
  },
  {
   "cell_type": "code",
   "execution_count": 199,
   "metadata": {},
   "outputs": [],
   "source": [
    "R_file = 'data\\small_movies_R.csv'\n",
    "W_file = 'data\\small_movies_W.csv'\n",
    "X_file = 'data\\small_movies_X.csv'\n",
    "Y_file = 'data\\small_movies_Y.csv'\n",
    "b_file = 'data\\small_movies_b.csv'\n"
   ]
  },
  {
   "cell_type": "code",
   "execution_count": 200,
   "metadata": {},
   "outputs": [],
   "source": [
    "R = import_movies_data(R_file)\n",
    "b = import_movies_data(b_file)\n",
    "Y = import_movies_data(Y_file)\n",
    "movie_list = import_movie_list()\n",
    "movies = movie_list['title']\n",
    "movies = np.array(movies).reshape(-1,1)\n",
    "b = b.reshape(1,-1)\n",
    "num_movies = R.shape[0]"
   ]
  },
  {
   "cell_type": "code",
   "execution_count": 201,
   "metadata": {},
   "outputs": [
    {
     "name": "stdout",
     "output_type": "stream",
     "text": [
      "User rated 1.0 to movie : ['Mission: Impossible II (2000)']\n",
      "User rated 5.0 to movie : [\"Ocean's Eleven (2001)\"]\n",
      "User rated 1.0 to movie : ['Bourne Supremacy, The (2004)']\n",
      "User rated 5.0 to movie : ['Batman Begins (2005)']\n",
      "User rated 3.0 to movie : ['Dark Knight, The (2008)']\n",
      "User rated 5.0 to movie : ['Inception (2010)']\n",
      "User rated 4.0 to movie : ['Social Network, The (2010)']\n",
      "User rated 1.0 to movie : ['Moneyball (2011)']\n",
      "User rated 5.0 to movie : ['Dark Knight Rises, The (2012)']\n",
      "User rated 5.0 to movie : ['Wolf of Wall Street, The (2013)']\n",
      "User rated 1.0 to movie : ['Interstellar (2014)']\n",
      "User rated 3.0 to movie : ['John Wick (2014)']\n",
      "User rated 4.0 to movie : ['The Intern (2015)']\n",
      "User rated 4.0 to movie : ['Now You See Me 2 (2016)']\n"
     ]
    }
   ],
   "source": [
    "new_user = np.zeros((Y.shape[0],1))\n",
    "# say = \"continue\"\n",
    "# while say.lower() != \"exit\" :\n",
    "#     a = int(input(\"Enter the Movie ID :  \"))\n",
    "#     while a > Y.shape[0] or a < 0 :\n",
    "#         a = int(input(\"Enter the Movie ID which exist int real : \"))\n",
    "    \n",
    "#     b = float(input(f\"Enter the rating you give to {movies[a]} afterwatching it : \"))\n",
    "#     while b > 5 or b < 0: \n",
    "#         b = float(input(f\"Enter a rating between 0 to 5 ,  it can be decimal too ! : \"))\n",
    "\n",
    "#     new_user[a] = b \n",
    "#     say = input(\"type 'exit' to stop writing the movies otherwise write 'con' to continue typing movies\")\n",
    "new_user = np.zeros((num_movies,1))\n",
    "new_user[62] = 1\n",
    "new_user[2716] = 5\n",
    "new_user[3618] = 1\n",
    "new_user[1398] = 5\n",
    "new_user[3083] = 5\n",
    "new_user[2112] = 3\n",
    "new_user[2755] = 4\n",
    "new_user[4170] = 4\n",
    "new_user[378] = 5\n",
    "new_user[3773] = 3\n",
    "new_user[4415] = 4\n",
    "new_user[3009] = 1\n",
    "new_user[1088] = 1\n",
    "new_user[3556] = 5\n",
    "\n",
    "my_rated = [i for i in range(num_movies) if new_user[i] > 0 ]\n",
    "for i in range(num_movies):\n",
    "  if(new_user[i] > 0):\n",
    "    print(f\"User rated {float(new_user[i])} to movie : {movies[i]}\")\n"
   ]
  },
  {
   "cell_type": "code",
   "execution_count": 202,
   "metadata": {},
   "outputs": [
    {
     "data": {
      "text/plain": [
       "((4778, 444), (4778, 444))"
      ]
     },
     "execution_count": 202,
     "metadata": {},
     "output_type": "execute_result"
    }
   ],
   "source": [
    "# movies[new_user != 0] , new_user[new_user != 0]\n",
    "Y = np.c_[new_user , Y]\n",
    "R = np.c_[(new_user != 0).astype(int), R]\n",
    "Y.shape , R.shape"
   ]
  },
  {
   "cell_type": "code",
   "execution_count": 212,
   "metadata": {},
   "outputs": [],
   "source": [
    "Y_norm = mean_normalize_data2(Y , R)\n",
    "num_users = R.shape[1]\n",
    "num_genre = 27 "
   ]
  },
  {
   "cell_type": "code",
   "execution_count": 204,
   "metadata": {},
   "outputs": [],
   "source": [
    "W = np.zeros((Y.shape[1],num_genre))\n",
    "X = np.zeros((Y.shape[0],num_genre))"
   ]
  },
  {
   "cell_type": "code",
   "execution_count": 205,
   "metadata": {},
   "outputs": [],
   "source": [
    "def dJ_dw(W,X,R,Y,b,lambda__):\n",
    "    for i in range(num_users):\n",
    "        # sum = np.zeros((1,X.shape[1]))\n",
    "        sum = np.zeros((X.shape[1],1))\n",
    "        for j in range(num_movies):\n",
    "            if R[j][i] == 1 :\n",
    "                wi = np.array(W[i]).reshape(-1,1)\n",
    "                xj = np.array(X[j]).reshape(-1,1)\n",
    "                sum = sum + (wi.T.dot(xj) + b[i] - Y[j][i])*xj\n",
    "        print(W[i].shape , sum.shape)\n",
    "        W[i] = lambda__*W[i] + sum.T\n",
    "    return W   "
   ]
  },
  {
   "cell_type": "code",
   "execution_count": 206,
   "metadata": {},
   "outputs": [],
   "source": [
    "def dJ_dX(W,X,R,Y,b,lambda__):\n",
    "    for i in range(num_movies):\n",
    "        sum = np.zeros((1,X.shape[1]))\n",
    "        for j in range(num_users):\n",
    "            if R[i][j] == 1  :\n",
    "                wj = np.array(W[j]).reshape(1,-1)\n",
    "                xi = np.array(X[i]).reshape(1,-1)\n",
    "                sum = sum + (wj.dot(xi.T) + b[j] - Y[i][j])*wj \n",
    "        X[i] = lambda__*X[i] + sum\n",
    "    return X\n"
   ]
  },
  {
   "cell_type": "code",
   "execution_count": 207,
   "metadata": {},
   "outputs": [],
   "source": [
    "def dJ_db(W,X,R,Y,b):\n",
    "    for i in range(num_users):\n",
    "        sum = 0\n",
    "        for j in range(num_movies):\n",
    "            if R[j][i] == 1 :\n",
    "                wi = np.array(W[i]).reshape(1,-1)\n",
    "                xj = np.array(X[j]).reshape(1,-1)\n",
    "                sum = sum + wi.dot(xj.T) + b[i] - Y[j][i]\n",
    "        b[i] = sum\n",
    "    return b"
   ]
  },
  {
   "cell_type": "code",
   "execution_count": 208,
   "metadata": {},
   "outputs": [],
   "source": [
    "def cost_fucntion(W,X,Y,R,b,lambda__):\n",
    "    cost = 0 \n",
    "    for i in range(num_movies):\n",
    "        for j in range(num_users):\n",
    "            if R[i][j] == 1:\n",
    "                wj = np.array(W[j]).reshape((1,-1))\n",
    "                xi = np.array(X[i]).reshape((1,-1))\n",
    "                cost = cost +  (wi.dot(xi) + b[j] - Y[i][j])**2 \n",
    "    for i in range(num_movies):\n",
    "        for k in range(num_genre):\n",
    "            cost = cost +  (lambda__/2)*X[i][k]\n",
    "        \n",
    "    for j in range(num_users):\n",
    "        for k in range(num_genre):\n",
    "            cost = cost +  (lambda__/2)*W[j][k]\n",
    "\n",
    "    return cost         \n",
    "             "
   ]
  },
  {
   "cell_type": "code",
   "execution_count": 209,
   "metadata": {},
   "outputs": [
    {
     "name": "stdout",
     "output_type": "stream",
     "text": [
      "(27,) (27, 443)\n"
     ]
    },
    {
     "ename": "ValueError",
     "evalue": "could not broadcast input array from shape (443,27) into shape (27,)",
     "output_type": "error",
     "traceback": [
      "\u001b[1;31m---------------------------------------------------------------------------\u001b[0m",
      "\u001b[1;31mValueError\u001b[0m                                Traceback (most recent call last)",
      "Cell \u001b[1;32mIn[209], line 5\u001b[0m\n\u001b[0;32m      3\u001b[0m lambda__ \u001b[39m=\u001b[39m \u001b[39m1e-3\u001b[39m\n\u001b[0;32m      4\u001b[0m \u001b[39mfor\u001b[39;00m i \u001b[39min\u001b[39;00m \u001b[39mrange\u001b[39m(iterations):\n\u001b[1;32m----> 5\u001b[0m     W \u001b[39m=\u001b[39m W \u001b[39m-\u001b[39m alpha\u001b[39m*\u001b[39mdJ_dw(W,X,R,Y,b,lambda__)\n\u001b[0;32m      6\u001b[0m     X \u001b[39m=\u001b[39m X \u001b[39m-\u001b[39m alpha\u001b[39m*\u001b[39mdJ_dw(W,X,R,Y,b,lambda__)\n\u001b[0;32m      7\u001b[0m     b \u001b[39m=\u001b[39m b \u001b[39m-\u001b[39m alpha\u001b[39m*\u001b[39mdJ_db(W,X,R,Y,b)\n",
      "Cell \u001b[1;32mIn[205], line 11\u001b[0m, in \u001b[0;36mdJ_dw\u001b[1;34m(W, X, R, Y, b, lambda__)\u001b[0m\n\u001b[0;32m      9\u001b[0m             \u001b[39msum\u001b[39m \u001b[39m=\u001b[39m \u001b[39msum\u001b[39m \u001b[39m+\u001b[39m (wi\u001b[39m.\u001b[39mT\u001b[39m.\u001b[39mdot(xj) \u001b[39m+\u001b[39m b[i] \u001b[39m-\u001b[39m Y[j][i])\u001b[39m*\u001b[39mxj\n\u001b[0;32m     10\u001b[0m     \u001b[39mprint\u001b[39m(W[i]\u001b[39m.\u001b[39mshape , \u001b[39msum\u001b[39m\u001b[39m.\u001b[39mshape)\n\u001b[1;32m---> 11\u001b[0m     W[i] \u001b[39m=\u001b[39m lambda__\u001b[39m*\u001b[39mW[i] \u001b[39m+\u001b[39m \u001b[39msum\u001b[39m\u001b[39m.\u001b[39mT\n\u001b[0;32m     12\u001b[0m \u001b[39mreturn\u001b[39;00m W\n",
      "\u001b[1;31mValueError\u001b[0m: could not broadcast input array from shape (443,27) into shape (27,)"
     ]
    }
   ],
   "source": [
    "iterations = 100\n",
    "alpha = 1e-5\n",
    "lambda__ = 1e-3\n",
    "for i in range(iterations):\n",
    "    W = W - alpha*dJ_dw(W,X,R,Y,b,lambda__)\n",
    "    X = X - alpha*dJ_dw(W,X,R,Y,b,lambda__)\n",
    "    b = b - alpha*dJ_db(W,X,R,Y,b)\n",
    "    print(f\"Cost function value after the iteration {iterations} is : {cost_fucntion(W,X,Y,R,b,lambda__)}\")\n",
    "    "
   ]
  }
 ],
 "metadata": {
  "kernelspec": {
   "display_name": "Python 3",
   "language": "python",
   "name": "python3"
  },
  "language_info": {
   "codemirror_mode": {
    "name": "ipython",
    "version": 3
   },
   "file_extension": ".py",
   "mimetype": "text/x-python",
   "name": "python",
   "nbconvert_exporter": "python",
   "pygments_lexer": "ipython3",
   "version": "3.10.11"
  },
  "orig_nbformat": 4
 },
 "nbformat": 4,
 "nbformat_minor": 2
}
