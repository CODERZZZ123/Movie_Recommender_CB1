{
 "cells": [
  {
   "cell_type": "code",
   "execution_count": 30,
   "metadata": {},
   "outputs": [],
   "source": [
    "import numpy as np\n",
    "import pandas as pd\n",
    "from resources import *"
   ]
  },
  {
   "cell_type": "code",
   "execution_count": 31,
   "metadata": {},
   "outputs": [],
   "source": [
    "R_file = 'data\\small_movies_R.csv'\n",
    "W_file = 'data\\small_movies_W.csv'\n",
    "X_file = 'data\\small_movies_X.csv'\n",
    "Y_file = 'data\\small_movies_Y.csv'\n",
    "b_file = 'data\\small_movies_b.csv'\n"
   ]
  },
  {
   "cell_type": "code",
   "execution_count": 32,
   "metadata": {},
   "outputs": [],
   "source": [
    "R = import_movies_data(R_file)\n",
    "b = import_movies_data(b_file)\n",
    "Y = import_movies_data(Y_file)\n",
    "movie_list = import_movie_list()\n",
    "movies = movie_list['title']\n",
    "movies = np.array(movies).reshape(-1,1)\n",
    "b = b.reshape(1,-1)\n",
    "num_movies = R.shape[0]"
   ]
  },
  {
   "cell_type": "code",
   "execution_count": 33,
   "metadata": {},
   "outputs": [
    {
     "name": "stdout",
     "output_type": "stream",
     "text": [
      "User rated 1.0 to movie : ['Mission: Impossible II (2000)']\n",
      "User rated 5.0 to movie : [\"Ocean's Eleven (2001)\"]\n",
      "User rated 1.0 to movie : ['Bourne Supremacy, The (2004)']\n",
      "User rated 5.0 to movie : ['Batman Begins (2005)']\n",
      "User rated 3.0 to movie : ['Dark Knight, The (2008)']\n",
      "User rated 5.0 to movie : ['Inception (2010)']\n",
      "User rated 4.0 to movie : ['Social Network, The (2010)']\n",
      "User rated 1.0 to movie : ['Moneyball (2011)']\n",
      "User rated 5.0 to movie : ['Dark Knight Rises, The (2012)']\n",
      "User rated 5.0 to movie : ['Wolf of Wall Street, The (2013)']\n",
      "User rated 1.0 to movie : ['Interstellar (2014)']\n",
      "User rated 3.0 to movie : ['John Wick (2014)']\n",
      "User rated 4.0 to movie : ['The Intern (2015)']\n",
      "User rated 4.0 to movie : ['Now You See Me 2 (2016)']\n"
     ]
    }
   ],
   "source": [
    "new_user = np.zeros((Y.shape[0],1))\n",
    "# say = \"continue\"\n",
    "# while say.lower() != \"exit\" :\n",
    "#     a = int(input(\"Enter the Movie ID :  \"))\n",
    "#     while a > Y.shape[0] or a < 0 :\n",
    "#         a = int(input(\"Enter the Movie ID which exist int real : \"))\n",
    "    \n",
    "#     b = float(input(f\"Enter the rating you give to {movies[a]} afterwatching it : \"))\n",
    "#     while b > 5 or b < 0: \n",
    "#         b = float(input(f\"Enter a rating between 0 to 5 ,  it can be decimal too ! : \"))\n",
    "\n",
    "#     new_user[a] = b \n",
    "#     say = input(\"type 'exit' to stop writing the movies otherwise write 'con' to continue typing movies\")\n",
    "new_user = np.zeros((num_movies,1))\n",
    "new_user[62] = 1\n",
    "new_user[2716] = 5\n",
    "new_user[3618] = 1\n",
    "new_user[1398] = 5\n",
    "new_user[3083] = 5\n",
    "new_user[2112] = 3\n",
    "new_user[2755] = 4\n",
    "new_user[4170] = 4\n",
    "new_user[378] = 5\n",
    "new_user[3773] = 3\n",
    "new_user[4415] = 4\n",
    "new_user[3009] = 1\n",
    "new_user[1088] = 1\n",
    "new_user[3556] = 5\n",
    "\n",
    "my_rated = [i for i in range(num_movies) if new_user[i] > 0 ]\n",
    "for i in range(num_movies):\n",
    "  if(new_user[i] > 0):\n",
    "    print(f\"User rated {float(new_user[i])} to movie : {movies[i]}\")\n"
   ]
  },
  {
   "cell_type": "code",
   "execution_count": 36,
   "metadata": {},
   "outputs": [
    {
     "data": {
      "text/plain": [
       "((4778, 445), (4778, 445))"
      ]
     },
     "execution_count": 36,
     "metadata": {},
     "output_type": "execute_result"
    }
   ],
   "source": [
    "# movies[new_user != 0] , new_user[new_user != 0]\n",
    "Y = np.c_[new_user , Y]\n",
    "R = np.c_[(new_user != 0).astype(int), R]\n",
    "Y.shape , R.shape\n",
    "# so git changed  som changes\n"
   ]
  },
  {
   "cell_type": "code",
   "execution_count": 35,
   "metadata": {},
   "outputs": [],
   "source": [
    "Y_norm = mean_normalize_data2(Y , R)\n",
    "num_users = R.shape[1]\n",
    "num_genre = 27 "
   ]
  },
  {
   "cell_type": "code",
   "execution_count": null,
   "metadata": {},
   "outputs": [],
   "source": []
  }
 ],
 "metadata": {
  "kernelspec": {
   "display_name": "Python 3",
   "language": "python",
   "name": "python3"
  },
  "language_info": {
   "codemirror_mode": {
    "name": "ipython",
    "version": 3
   },
   "file_extension": ".py",
   "mimetype": "text/x-python",
   "name": "python",
   "nbconvert_exporter": "python",
   "pygments_lexer": "ipython3",
   "version": "3.10.11"
  },
  "orig_nbformat": 4
 },
 "nbformat": 4,
 "nbformat_minor": 2
}
